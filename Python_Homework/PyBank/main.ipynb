{
 "cells": [
  {
   "cell_type": "code",
   "execution_count": 6,
   "id": "8987f362-dd7f-41e9-b6c2-c699dc0e0381",
   "metadata": {},
   "outputs": [
    {
     "name": "stdout",
     "output_type": "stream",
     "text": [
      "Financial Analysis\n",
      "--------------------\n",
      "Total Months: 86\n",
      "Total: $38382578\n",
      "Average Change: $-2315.12\n",
      "Greatest Increase in Profits: Feb-2012 ($1926159)\n",
      "Greatest Descrease in Profits: Sep-2013 ($-2196167)\n"
     ]
    },
    {
     "ename": "ValueError",
     "evalue": "invalid mode: 'C:/Users/User/Desktop/New folder'",
     "output_type": "error",
     "traceback": [
      "\u001b[1;31m---------------------------------------------------------------------------\u001b[0m",
      "\u001b[1;31mValueError\u001b[0m                                Traceback (most recent call last)",
      "\u001b[1;32m~\\AppData\\Local\\Temp/ipykernel_23576/2023549227.py\u001b[0m in \u001b[0;36m<module>\u001b[1;34m\u001b[0m\n\u001b[0;32m     50\u001b[0m \u001b[1;31m# Create a text file with the results\u001b[0m\u001b[1;33m\u001b[0m\u001b[1;33m\u001b[0m\u001b[0m\n\u001b[0;32m     51\u001b[0m \u001b[0moutput_file\u001b[0m \u001b[1;33m=\u001b[0m \u001b[1;34m'Analysis/financial_analysis.txt'\u001b[0m\u001b[1;33m\u001b[0m\u001b[1;33m\u001b[0m\u001b[0m\n\u001b[1;32m---> 52\u001b[1;33m \u001b[1;32mwith\u001b[0m \u001b[0mopen\u001b[0m\u001b[1;33m(\u001b[0m\u001b[0moutput_file\u001b[0m\u001b[1;33m,\u001b[0m \u001b[1;34m\"C:/Users/User/Desktop/New folder\"\u001b[0m\u001b[1;33m,\u001b[0m \u001b[0mnewline\u001b[0m\u001b[1;33m=\u001b[0m\u001b[1;34m\"\"\u001b[0m\u001b[1;33m)\u001b[0m \u001b[1;32mas\u001b[0m \u001b[0mdatafile\u001b[0m\u001b[1;33m:\u001b[0m\u001b[1;33m\u001b[0m\u001b[1;33m\u001b[0m\u001b[0m\n\u001b[0m\u001b[0;32m     53\u001b[0m     \u001b[0mcsvwriter\u001b[0m \u001b[1;33m=\u001b[0m \u001b[0mcsv\u001b[0m\u001b[1;33m.\u001b[0m\u001b[0mwriter\u001b[0m\u001b[1;33m(\u001b[0m\u001b[0mdatafile\u001b[0m\u001b[1;33m)\u001b[0m\u001b[1;33m\u001b[0m\u001b[1;33m\u001b[0m\u001b[0m\n\u001b[0;32m     54\u001b[0m     \u001b[0mcsvwriter\u001b[0m\u001b[1;33m.\u001b[0m\u001b[0mwriterow\u001b[0m\u001b[1;33m(\u001b[0m\u001b[1;33m[\u001b[0m\u001b[1;34m\"Financial Analysis\"\u001b[0m\u001b[1;33m]\u001b[0m\u001b[1;33m)\u001b[0m\u001b[1;33m\u001b[0m\u001b[1;33m\u001b[0m\u001b[0m\n",
      "\u001b[1;31mValueError\u001b[0m: invalid mode: 'C:/Users/User/Desktop/New folder'"
     ]
    }
   ],
   "source": [
    "import os\n",
    "import csv\n",
    "\n",
    "# Variables\n",
    "months = []\n",
    "p = []\n",
    "average_net_change = 0\n",
    "total_months = 0\n",
    "net_change = []\n",
    "\n",
    "# Load csv file\n",
    "csvpath = os.path.join('C:/Users/User/Downloads/budget_data (1).csv')\n",
    "\n",
    "with open(csvpath, newline=\"\") as csvfile:\n",
    "    csvreader = csv.reader(csvfile, delimiter=\",\")\n",
    "    reader = csv.reader(csvfile)\n",
    "    next(reader, None)\n",
    "# Add values to lists\n",
    "    for row in reader:\n",
    "        month = row[0]\n",
    "        months.append(month)\n",
    "        values = int(row[1])\n",
    "        p.append(values)\n",
    "\n",
    "total_months = len(months)\n",
    "net_total = sum(p)\n",
    "net_total_months = len(months) - 1\n",
    "difference_budget_data = []\n",
    "\n",
    "for i in range(len(p) - 1):\n",
    "    difference_budget_data.append(float(p[i + 1]) - float(p[i]))\n",
    "    new_net_total = sum(difference_budget_data)\n",
    "\n",
    "# Find the sum of profits/losses\n",
    "average_net_change = new_net_total/net_total_months\n",
    "\n",
    "# Find the greatest increase/decrease (date and amount) over the entire period\n",
    "min_p = p[p.index(min(p))] - p[p.index(min(p))-1]\n",
    "max_p = p[p.index(max(p))] - p[p.index(max(p))-1]\n",
    "\n",
    "# Print out results to console\n",
    "print(\"Financial Analysis\")\n",
    "print(\"--------------------\")\n",
    "print(f\"Total Months: {total_months}\")\n",
    "print(f\"Total: ${net_total}\")\n",
    "print(f\"Average Change: ${round(average_net_change,2)}\")\n",
    "print(f'Greatest Increase in Profits: {months[p.index(max(p))]} (${max_p})')\n",
    "print(f\"Greatest Descrease in Profits: {months[p.index(min(p))]} (${min_p})\")\n",
    "\n",
    "# Create a text file with the results\n",
    "output_file = 'Analysis/financial_analysis.txt'\n",
    "with open(output_file, \"C:/Users/User/Desktop/New folder\", newline=\"\") as datafile:\n",
    "    csvwriter = csv.writer(datafile)\n",
    "    csvwriter.writerow([\"Financial Analysis\"])\n",
    "    csvwriter.writerow([\"--------------------\"])\n",
    "    csvwriter.writerow([f\"Total Months: {total_months}\"])\n",
    "    csvwriter.writerow([f\"Total: ${net_total}\"])\n",
    "    csvwriter.writerow([f\"Average Change: ${round(average_net_change,2)}\"])\n",
    "    csvwriter.writerow([f'Greatest Increase in Profits: {months[p.index(max(p))]} (${max_p})'])\n",
    "    csvwriter.writerow([f\"Greatest Decrease in Profits: {months[p.index(min(p))]} (${min_p})\"])"
   ]
  },
  {
   "cell_type": "code",
   "execution_count": null,
   "id": "94f2f67a-a89e-47b9-80e7-c379a9d9ee92",
   "metadata": {},
   "outputs": [],
   "source": []
  }
 ],
 "metadata": {
  "kernelspec": {
   "display_name": "Python 3 (ipykernel)",
   "language": "python",
   "name": "python3"
  },
  "language_info": {
   "codemirror_mode": {
    "name": "ipython",
    "version": 3
   },
   "file_extension": ".py",
   "mimetype": "text/x-python",
   "name": "python",
   "nbconvert_exporter": "python",
   "pygments_lexer": "ipython3",
   "version": "3.9.7"
  }
 },
 "nbformat": 4,
 "nbformat_minor": 5
}
